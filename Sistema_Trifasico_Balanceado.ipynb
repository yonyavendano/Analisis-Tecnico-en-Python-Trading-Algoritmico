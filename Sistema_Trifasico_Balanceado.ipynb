{
  "nbformat": 4,
  "nbformat_minor": 0,
  "metadata": {
    "colab": {
      "provenance": [],
      "authorship_tag": "ABX9TyOYp++7NkL2QANaMVfM1EGb",
      "include_colab_link": true
    },
    "kernelspec": {
      "name": "python3",
      "display_name": "Python 3"
    },
    "language_info": {
      "name": "python"
    }
  },
  "cells": [
    {
      "cell_type": "markdown",
      "metadata": {
        "id": "view-in-github",
        "colab_type": "text"
      },
      "source": [
        "<a href=\"https://colab.research.google.com/github/yonyavendano/Analisis-Tecnico-en-Python-Trading-Algoritmico/blob/main/Sistema_Trifasico_Balanceado.ipynb\" target=\"_parent\"><img src=\"https://colab.research.google.com/assets/colab-badge.svg\" alt=\"Open In Colab\"/></a>"
      ]
    },
    {
      "cell_type": "code",
      "execution_count": 1,
      "metadata": {
        "colab": {
          "base_uri": "https://localhost:8080/"
        },
        "id": "aNRSvk1jjyPo",
        "outputId": "b8fd698a-5bcc-4686-b6a2-912369e74c18"
      },
      "outputs": [
        {
          "output_type": "stream",
          "name": "stdout",
          "text": [
            "Corrientes de línea (fase-neutro):\n",
            "Ia = 22.17-11.09j A\n",
            "Ib = -16.39-14.54j A\n",
            "Ic = 3.31+27.51j A\n",
            "\n",
            "Corrientes en forma polar:\n",
            "Ia = 24.79 ∠ -26.6° A\n",
            "Ib = 21.91 ∠ -138.4° A\n",
            "Ic = 27.71 ∠ 83.1° A\n"
          ]
        }
      ],
      "source": [
        "import numpy as np\n",
        "\n",
        "# Voltaje línea a línea del sistema\n",
        "V_ll = 480  # voltios\n",
        "\n",
        "# Cálculo de tensiones fase-neutro (fasorial)\n",
        "V_an = V_ll / np.sqrt(3) * np.exp(1j * 0)          # Fase A\n",
        "V_bn = V_ll / np.sqrt(3) * np.exp(1j * -120 * np.pi / 180)  # Fase B\n",
        "V_cn = V_ll / np.sqrt(3) * np.exp(1j * 120 * np.pi / 180)   # Fase C\n",
        "\n",
        "# Impedancias por fase (puedes cambiar estos valores)\n",
        "Z_a = 10 + 5j    # Ohm\n",
        "Z_b = 12 + 4j    # Ohm\n",
        "Z_c = 8 + 6j     # Ohm\n",
        "\n",
        "# Corrientes de línea por fase\n",
        "I_a = V_an / Z_a\n",
        "I_b = V_bn / Z_b\n",
        "I_c = V_cn / Z_c\n",
        "\n",
        "# Resultados\n",
        "print(\"Corrientes de línea (fase-neutro):\")\n",
        "print(f\"Ia = {I_a:.2f} A\")\n",
        "print(f\"Ib = {I_b:.2f} A\")\n",
        "print(f\"Ic = {I_c:.2f} A\")\n",
        "\n",
        "# Magnitud y ángulo en grados\n",
        "def formato(c):\n",
        "    return f\"{abs(c):.2f} ∠ {np.angle(c, deg=True):.1f}°\"\n",
        "\n",
        "print(\"\\nCorrientes en forma polar:\")\n",
        "print(f\"Ia = {formato(I_a)} A\")\n",
        "print(f\"Ib = {formato(I_b)} A\")\n",
        "print(f\"Ic = {formato(I_c)} A\")"
      ]
    }
  ]
}